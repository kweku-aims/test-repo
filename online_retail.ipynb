{
 "cells": [
  {
   "attachments": {},
   "cell_type": "markdown",
   "metadata": {},
   "source": [
    "# Portfolio Project: Online Retail Exploratory Data Analysis with Python"
   ]
  },
  {
   "attachments": {},
   "cell_type": "markdown",
   "metadata": {},
   "source": [
    "## Overview\n",
    "\n",
    "In this project, you will step into the shoes of an entry-level data analyst at an online retail company, helping interpret real-world data to help make a key business decision."
   ]
  },
  {
   "attachments": {},
   "cell_type": "markdown",
   "metadata": {},
   "source": [
    "## Case Study\n",
    "In this project, you will be working with transactional data from an online retail store. The dataset contains information about customer purchases, including product details, quantities, prices, and timestamps. Your task is to explore and analyze this dataset to gain insights into the store's sales trends, customer behavior, and popular products. \n",
    "\n",
    "By conducting exploratory data analysis, you will identify patterns, outliers, and correlations in the data, allowing you to make data-driven decisions and recommendations to optimize the store's operations and improve customer satisfaction. Through visualizations and statistical analysis, you will uncover key trends, such as the busiest sales months, best-selling products, and the store's most valuable customers. Ultimately, this project aims to provide actionable insights that can drive strategic business decisions and enhance the store's overall performance in the competitive online retail market."
   ]
  },
  {
   "attachments": {},
   "cell_type": "markdown",
   "metadata": {},
   "source": [
    "## Project Objectives\n",
    "1. Describe data to answer key questions to uncover insights\n",
    "2. Gain valuable insights that will help improve online retail performance\n",
    "3. Provide analytic insights and data-driven recommendations"
   ]
  },
  {
   "attachments": {},
   "cell_type": "markdown",
   "metadata": {},
   "source": [
    "## Dataset\n",
    "\n",
    "The dataset you will be working with is the \"Online Retail\" dataset. It contains transactional data of an online retail store from 2010 to 2011. The dataset is available as a .xlsx file named `Online Retail.xlsx`. This data file is already included in the Coursera Jupyter Notebook environment, however if you are working off-platform it can also be downloaded [here](https://archive.ics.uci.edu/ml/machine-learning-databases/00352/Online%20Retail.xlsx).\n",
    "\n",
    "The dataset contains the following columns:\n",
    "\n",
    "- InvoiceNo: Invoice number of the transaction\n",
    "- StockCode: Unique code of the product\n",
    "- Description: Description of the product\n",
    "- Quantity: Quantity of the product in the transaction\n",
    "- InvoiceDate: Date and time of the transaction\n",
    "- UnitPrice: Unit price of the product\n",
    "- CustomerID: Unique identifier of the customer\n",
    "- Country: Country where the transaction occurred"
   ]
  },
  {
   "attachments": {},
   "cell_type": "markdown",
   "metadata": {},
   "source": [
    "## Tasks\n",
    "\n",
    "You may explore this dataset in any way you would like - however if you'd like some help getting started, here are a few ideas:\n",
    "\n",
    "1. Load the dataset into a Pandas DataFrame and display the first few rows to get an overview of the data.\n",
    "2. Perform data cleaning by handling missing values, if any, and removing any redundant or unnecessary columns.\n",
    "3. Explore the basic statistics of the dataset, including measures of central tendency and dispersion.\n",
    "4. Perform data visualization to gain insights into the dataset. Generate appropriate plots, such as histograms, scatter plots, or bar plots, to visualize different aspects of the data.\n",
    "5. Analyze the sales trends over time. Identify the busiest months and days of the week in terms of sales.\n",
    "6. Explore the top-selling products and countries based on the quantity sold.\n",
    "7. Identify any outliers or anomalies in the dataset and discuss their potential impact on the analysis.\n",
    "8. Draw conclusions and summarize your findings from the exploratory data analysis."
   ]
  },
  {
   "attachments": {},
   "cell_type": "markdown",
   "metadata": {},
   "source": [
    "## Task 1: Load the Data"
   ]
  },
  {
   "cell_type": "code",
   "execution_count": 18,
   "metadata": {},
   "outputs": [],
   "source": [
    "# your code here\n",
    "import pandas as pd\n",
    "import numpy as np\n",
    "import seaborn as sns\n",
    "import matplotlib.pyplot as plt\n",
    "import calendar\n",
    "#Load data\n",
    "df= pd.read_excel('Online Retail.xlsx',sheet_name='Online Retail',engine='openpyxl')\n",
    "\n"
   ]
  },
  {
   "attachments": {},
   "cell_type": "markdown",
   "metadata": {},
   "source": [
    "***Let us now clean our data by taking out completely non-conforming rows***"
   ]
  },
  {
   "cell_type": "code",
   "execution_count": 19,
   "metadata": {},
   "outputs": [],
   "source": [
    "#take out missing values and unimportant columns\n",
    "df.dropna(how='any',inplace=True)\n",
    "df.drop(['InvoiceNo'],axis=1,inplace=True)\n",
    "\n"
   ]
  },
  {
   "attachments": {},
   "cell_type": "markdown",
   "metadata": {},
   "source": [
    "***Also, let us attempt to split our time and date and redesign some data types***"
   ]
  },
  {
   "cell_type": "code",
   "execution_count": 20,
   "metadata": {},
   "outputs": [
    {
     "data": {
      "text/html": [
       "<div>\n",
       "<style scoped>\n",
       "    .dataframe tbody tr th:only-of-type {\n",
       "        vertical-align: middle;\n",
       "    }\n",
       "\n",
       "    .dataframe tbody tr th {\n",
       "        vertical-align: top;\n",
       "    }\n",
       "\n",
       "    .dataframe thead th {\n",
       "        text-align: right;\n",
       "    }\n",
       "</style>\n",
       "<table border=\"1\" class=\"dataframe\">\n",
       "  <thead>\n",
       "    <tr style=\"text-align: right;\">\n",
       "      <th></th>\n",
       "      <th>StockCode</th>\n",
       "      <th>Description</th>\n",
       "      <th>Quantity</th>\n",
       "      <th>InvoiceDate</th>\n",
       "      <th>UnitPrice</th>\n",
       "      <th>CustomerID</th>\n",
       "      <th>Country</th>\n",
       "      <th>Invoice_date</th>\n",
       "      <th>Invoice_time</th>\n",
       "      <th>Year</th>\n",
       "      <th>Month</th>\n",
       "      <th>Weekday</th>\n",
       "    </tr>\n",
       "  </thead>\n",
       "  <tbody>\n",
       "    <tr>\n",
       "      <th>0</th>\n",
       "      <td>85123A</td>\n",
       "      <td>WHITE HANGING HEART T-LIGHT HOLDER</td>\n",
       "      <td>6</td>\n",
       "      <td>2010-12-01 08:26:00</td>\n",
       "      <td>2.55</td>\n",
       "      <td>17850.0</td>\n",
       "      <td>United Kingdom</td>\n",
       "      <td>2010-12-01</td>\n",
       "      <td>08:26:00</td>\n",
       "      <td>2010</td>\n",
       "      <td>Dec</td>\n",
       "      <td>Wednesday</td>\n",
       "    </tr>\n",
       "    <tr>\n",
       "      <th>1</th>\n",
       "      <td>71053</td>\n",
       "      <td>WHITE METAL LANTERN</td>\n",
       "      <td>6</td>\n",
       "      <td>2010-12-01 08:26:00</td>\n",
       "      <td>3.39</td>\n",
       "      <td>17850.0</td>\n",
       "      <td>United Kingdom</td>\n",
       "      <td>2010-12-01</td>\n",
       "      <td>08:26:00</td>\n",
       "      <td>2010</td>\n",
       "      <td>Dec</td>\n",
       "      <td>Wednesday</td>\n",
       "    </tr>\n",
       "    <tr>\n",
       "      <th>2</th>\n",
       "      <td>84406B</td>\n",
       "      <td>CREAM CUPID HEARTS COAT HANGER</td>\n",
       "      <td>8</td>\n",
       "      <td>2010-12-01 08:26:00</td>\n",
       "      <td>2.75</td>\n",
       "      <td>17850.0</td>\n",
       "      <td>United Kingdom</td>\n",
       "      <td>2010-12-01</td>\n",
       "      <td>08:26:00</td>\n",
       "      <td>2010</td>\n",
       "      <td>Dec</td>\n",
       "      <td>Wednesday</td>\n",
       "    </tr>\n",
       "    <tr>\n",
       "      <th>3</th>\n",
       "      <td>84029G</td>\n",
       "      <td>KNITTED UNION FLAG HOT WATER BOTTLE</td>\n",
       "      <td>6</td>\n",
       "      <td>2010-12-01 08:26:00</td>\n",
       "      <td>3.39</td>\n",
       "      <td>17850.0</td>\n",
       "      <td>United Kingdom</td>\n",
       "      <td>2010-12-01</td>\n",
       "      <td>08:26:00</td>\n",
       "      <td>2010</td>\n",
       "      <td>Dec</td>\n",
       "      <td>Wednesday</td>\n",
       "    </tr>\n",
       "    <tr>\n",
       "      <th>4</th>\n",
       "      <td>84029E</td>\n",
       "      <td>RED WOOLLY HOTTIE WHITE HEART.</td>\n",
       "      <td>6</td>\n",
       "      <td>2010-12-01 08:26:00</td>\n",
       "      <td>3.39</td>\n",
       "      <td>17850.0</td>\n",
       "      <td>United Kingdom</td>\n",
       "      <td>2010-12-01</td>\n",
       "      <td>08:26:00</td>\n",
       "      <td>2010</td>\n",
       "      <td>Dec</td>\n",
       "      <td>Wednesday</td>\n",
       "    </tr>\n",
       "  </tbody>\n",
       "</table>\n",
       "</div>"
      ],
      "text/plain": [
       "  StockCode                          Description  Quantity  \\\n",
       "0    85123A   WHITE HANGING HEART T-LIGHT HOLDER         6   \n",
       "1     71053                  WHITE METAL LANTERN         6   \n",
       "2    84406B       CREAM CUPID HEARTS COAT HANGER         8   \n",
       "3    84029G  KNITTED UNION FLAG HOT WATER BOTTLE         6   \n",
       "4    84029E       RED WOOLLY HOTTIE WHITE HEART.         6   \n",
       "\n",
       "          InvoiceDate  UnitPrice CustomerID         Country Invoice_date  \\\n",
       "0 2010-12-01 08:26:00       2.55    17850.0  United Kingdom   2010-12-01   \n",
       "1 2010-12-01 08:26:00       3.39    17850.0  United Kingdom   2010-12-01   \n",
       "2 2010-12-01 08:26:00       2.75    17850.0  United Kingdom   2010-12-01   \n",
       "3 2010-12-01 08:26:00       3.39    17850.0  United Kingdom   2010-12-01   \n",
       "4 2010-12-01 08:26:00       3.39    17850.0  United Kingdom   2010-12-01   \n",
       "\n",
       "  Invoice_time  Year Month    Weekday  \n",
       "0     08:26:00  2010   Dec  Wednesday  \n",
       "1     08:26:00  2010   Dec  Wednesday  \n",
       "2     08:26:00  2010   Dec  Wednesday  \n",
       "3     08:26:00  2010   Dec  Wednesday  \n",
       "4     08:26:00  2010   Dec  Wednesday  "
      ]
     },
     "execution_count": 20,
     "metadata": {},
     "output_type": "execute_result"
    }
   ],
   "source": [
    "df['Invoice_date'] = [d.date() for d in df['InvoiceDate']]\n",
    "df['Invoice_time'] = [d.time() for d in df['InvoiceDate']]\n",
    "df['Invoice_date']= df['Invoice_date'].astype('datetime64[ns]')\n",
    "df['CustomerID']= df['CustomerID'].astype('str')\n",
    "df['Year'] = df['Invoice_date'].dt.year \n",
    "df['Month'] = df['Invoice_date'].dt.month \n",
    "#now we assign the month names\n",
    "df['Month'] = df['Month'].apply(lambda x: calendar.month_abbr[x])\n",
    "df['Weekday'] = df['InvoiceDate'].dt.day_name()\n",
    "\n",
    "#Alternative ways for day of week\n",
    "#df['day_of_week'] = df['my_dates'].dt.dayofweek\n",
    "\n",
    "#days = {0:'Mon',1:'Tues',2:'Weds',3:'Thurs',4:'Fri',5:'Sat',6:'Sun'}\n",
    "\n",
    "#df['day_of_week'] = df['day_of_week'].apply(lambda x: days[x])\n",
    "df.head()"
   ]
  },
  {
   "attachments": {},
   "cell_type": "markdown",
   "metadata": {},
   "source": [
    "**Now let us look at our top customers**\n"
   ]
  },
  {
   "attachments": {},
   "cell_type": "markdown",
   "metadata": {},
   "source": [
    "***First, our top 7 spenders!***"
   ]
  },
  {
   "cell_type": "code",
   "execution_count": 21,
   "metadata": {},
   "outputs": [
    {
     "data": {
      "text/html": [
       "<div>\n",
       "<style scoped>\n",
       "    .dataframe tbody tr th:only-of-type {\n",
       "        vertical-align: middle;\n",
       "    }\n",
       "\n",
       "    .dataframe tbody tr th {\n",
       "        vertical-align: top;\n",
       "    }\n",
       "\n",
       "    .dataframe thead tr th {\n",
       "        text-align: left;\n",
       "    }\n",
       "\n",
       "    .dataframe thead tr:last-of-type th {\n",
       "        text-align: right;\n",
       "    }\n",
       "</style>\n",
       "<table border=\"1\" class=\"dataframe\">\n",
       "  <thead>\n",
       "    <tr>\n",
       "      <th></th>\n",
       "      <th colspan=\"3\" halign=\"left\">UnitPrice</th>\n",
       "    </tr>\n",
       "    <tr>\n",
       "      <th></th>\n",
       "      <th>sum</th>\n",
       "      <th>count</th>\n",
       "      <th>mean</th>\n",
       "    </tr>\n",
       "    <tr>\n",
       "      <th>CustomerID</th>\n",
       "      <th></th>\n",
       "      <th></th>\n",
       "      <th></th>\n",
       "    </tr>\n",
       "  </thead>\n",
       "  <tbody>\n",
       "    <tr>\n",
       "      <th>14096.0</th>\n",
       "      <td>41376.33</td>\n",
       "      <td>5128</td>\n",
       "      <td>8.068707</td>\n",
       "    </tr>\n",
       "    <tr>\n",
       "      <th>15098.0</th>\n",
       "      <td>40278.90</td>\n",
       "      <td>5</td>\n",
       "      <td>8055.780000</td>\n",
       "    </tr>\n",
       "    <tr>\n",
       "      <th>14911.0</th>\n",
       "      <td>31060.66</td>\n",
       "      <td>5903</td>\n",
       "      <td>5.261843</td>\n",
       "    </tr>\n",
       "    <tr>\n",
       "      <th>12744.0</th>\n",
       "      <td>25108.89</td>\n",
       "      <td>229</td>\n",
       "      <td>109.645808</td>\n",
       "    </tr>\n",
       "    <tr>\n",
       "      <th>16029.0</th>\n",
       "      <td>24111.14</td>\n",
       "      <td>274</td>\n",
       "      <td>87.996861</td>\n",
       "    </tr>\n",
       "    <tr>\n",
       "      <th>17841.0</th>\n",
       "      <td>20333.18</td>\n",
       "      <td>7983</td>\n",
       "      <td>2.547060</td>\n",
       "    </tr>\n",
       "    <tr>\n",
       "      <th>12748.0</th>\n",
       "      <td>15115.60</td>\n",
       "      <td>4642</td>\n",
       "      <td>3.256269</td>\n",
       "    </tr>\n",
       "  </tbody>\n",
       "</table>\n",
       "</div>"
      ],
      "text/plain": [
       "           UnitPrice                   \n",
       "                 sum count         mean\n",
       "CustomerID                             \n",
       "14096.0     41376.33  5128     8.068707\n",
       "15098.0     40278.90     5  8055.780000\n",
       "14911.0     31060.66  5903     5.261843\n",
       "12744.0     25108.89   229   109.645808\n",
       "16029.0     24111.14   274    87.996861\n",
       "17841.0     20333.18  7983     2.547060\n",
       "12748.0     15115.60  4642     3.256269"
      ]
     },
     "execution_count": 21,
     "metadata": {},
     "output_type": "execute_result"
    }
   ],
   "source": [
    "df_group_one = df[['CustomerID','UnitPrice','Quantity']]\n",
    "groupagg=df_group_one.groupby(['CustomerID']).agg({'UnitPrice': ['sum', 'count','mean']})\n",
    "top_spenders=groupagg.sort_values(by=('UnitPrice','sum'),ascending=False)\n",
    "top_spenders.head(7)\n",
    "#df_group_one.head()"
   ]
  },
  {
   "attachments": {},
   "cell_type": "markdown",
   "metadata": {},
   "source": [
    "***A little more graphic please..***"
   ]
  },
  {
   "cell_type": "code",
   "execution_count": 22,
   "metadata": {},
   "outputs": [
    {
     "data": {
      "image/png": "[encoded data removed]",
      "text/plain": [
       "<Figure size 432x288 with 1 Axes>"
      ]
     },
     "metadata": {},
     "output_type": "display_data"
    }
   ],
   "source": [
    "groupagg=df_group_one.groupby(['CustomerID']).agg({'UnitPrice': ['sum']})\n",
    "top_spenders=groupagg.sort_values(by=('UnitPrice','sum'),ascending=False)\n",
    "top_spenders=top_spenders.head(7)\n",
    "\n",
    "#Unpivot the columns\n",
    "res_top = top_spenders.reset_index()\n",
    "res_wide_top=res_top.melt(id_vars='CustomerID')\n",
    "res_wide_top=res_wide_top.drop(['variable_0','variable_1'],axis=1)\n",
    "res_wide_top.rename(columns = {'value':'Money_Spent'}, inplace = True)\n",
    "\n",
    "#display dataframe\n",
    "#res_wide_top\n",
    "#plotting the graph\n",
    "\n",
    "plt.style.use('ggplot')\n",
    "plt.barh(res_wide_top['CustomerID'], res_wide_top['Money_Spent'])\n",
    "\n",
    "# setting label of y-axis\n",
    "plt.ylabel(\"Customer ID\")\n",
    "\n",
    "# setting label of x-axis\n",
    "plt.xlabel(\"Money Spent\")\n",
    "plt.title(\"Top 7 Customers\")\n",
    "plt.show()"
   ]
  },
  {
   "attachments": {},
   "cell_type": "markdown",
   "metadata": {},
   "source": [
    "***but are they?***"
   ]
  },
  {
   "cell_type": "code",
   "execution_count": 24,
   "metadata": {},
   "outputs": [
    {
     "data": {
      "text/html": [
       "<div>\n",
       "<style scoped>\n",
       "    .dataframe tbody tr th:only-of-type {\n",
       "        vertical-align: middle;\n",
       "    }\n",
       "\n",
       "    .dataframe tbody tr th {\n",
       "        vertical-align: top;\n",
       "    }\n",
       "\n",
       "    .dataframe thead tr th {\n",
       "        text-align: left;\n",
       "    }\n",
       "\n",
       "    .dataframe thead tr:last-of-type th {\n",
       "        text-align: right;\n",
       "    }\n",
       "</style>\n",
       "<table border=\"1\" class=\"dataframe\">\n",
       "  <thead>\n",
       "    <tr>\n",
       "      <th></th>\n",
       "      <th colspan=\"3\" halign=\"left\">UnitPrice</th>\n",
       "    </tr>\n",
       "    <tr>\n",
       "      <th></th>\n",
       "      <th>sum</th>\n",
       "      <th>count</th>\n",
       "      <th>mean</th>\n",
       "    </tr>\n",
       "    <tr>\n",
       "      <th>CustomerID</th>\n",
       "      <th></th>\n",
       "      <th></th>\n",
       "      <th></th>\n",
       "    </tr>\n",
       "  </thead>\n",
       "  <tbody>\n",
       "    <tr>\n",
       "      <th>15098.0</th>\n",
       "      <td>40278.90</td>\n",
       "      <td>5</td>\n",
       "      <td>8055.78</td>\n",
       "    </tr>\n",
       "    <tr>\n",
       "      <th>17448.0</th>\n",
       "      <td>4287.63</td>\n",
       "      <td>1</td>\n",
       "      <td>4287.63</td>\n",
       "    </tr>\n",
       "    <tr>\n",
       "      <th>17846.0</th>\n",
       "      <td>2033.10</td>\n",
       "      <td>1</td>\n",
       "      <td>2033.10</td>\n",
       "    </tr>\n",
       "    <tr>\n",
       "      <th>15369.0</th>\n",
       "      <td>1592.49</td>\n",
       "      <td>1</td>\n",
       "      <td>1592.49</td>\n",
       "    </tr>\n",
       "    <tr>\n",
       "      <th>12503.0</th>\n",
       "      <td>1126.00</td>\n",
       "      <td>1</td>\n",
       "      <td>1126.00</td>\n",
       "    </tr>\n",
       "    <tr>\n",
       "      <th>13154.0</th>\n",
       "      <td>611.86</td>\n",
       "      <td>1</td>\n",
       "      <td>611.86</td>\n",
       "    </tr>\n",
       "    <tr>\n",
       "      <th>15802.0</th>\n",
       "      <td>1354.26</td>\n",
       "      <td>3</td>\n",
       "      <td>451.42</td>\n",
       "    </tr>\n",
       "  </tbody>\n",
       "</table>\n",
       "</div>"
      ],
      "text/plain": [
       "           UnitPrice               \n",
       "                 sum count     mean\n",
       "CustomerID                         \n",
       "15098.0     40278.90     5  8055.78\n",
       "17448.0      4287.63     1  4287.63\n",
       "17846.0      2033.10     1  2033.10\n",
       "15369.0      1592.49     1  1592.49\n",
       "12503.0      1126.00     1  1126.00\n",
       "13154.0       611.86     1   611.86\n",
       "15802.0      1354.26     3   451.42"
      ]
     },
     "execution_count": 24,
     "metadata": {},
     "output_type": "execute_result"
    }
   ],
   "source": [
    "df_group_one = df[['CustomerID','UnitPrice','Quantity']]\n",
    "groupagg=df_group_one.groupby(['CustomerID']).agg({'UnitPrice': ['sum', 'count','mean']})\n",
    "top_spenders=groupagg.sort_values(by=('UnitPrice','mean'),ascending=False)\n",
    "top_spenders.head(7)\n",
    "#df_group_one.head()"
   ]
  },
  {
   "cell_type": "code",
   "execution_count": 25,
   "metadata": {},
   "outputs": [
    {
     "data": {
      "text/plain": [
       "Text(0, 0.5, 'Customer ID')"
      ]
     },
     "execution_count": 25,
     "metadata": {},
     "output_type": "execute_result"
    },
    {
     "data": {
      "image/png": "[encoded data removed]",
      "text/plain": [
       "<Figure size 432x288 with 1 Axes>"
      ]
     },
     "metadata": {},
     "output_type": "display_data"
    }
   ],
   "source": [
    "groupagg=df_group_one.groupby(['CustomerID']).agg({'UnitPrice': ['mean']})\n",
    "top_spendersm=groupagg.sort_values(by=('UnitPrice','mean'),ascending=False)\n",
    "top_spendersm=top_spendersm.head(7)\n",
    "\n",
    "#Unpivot the columns\n",
    "res_topm = top_spendersm.reset_index()\n",
    "res_wide_topm=res_topm.melt(id_vars='CustomerID')\n",
    "res_wide_topm=res_wide_topm.drop(['variable_0','variable_1'],axis=1)\n",
    "res_wide_topm.rename(columns = {'value':'Average_Money_Spent'}, inplace = True)\n",
    "\n",
    "#display dataframe\n",
    "res_wide_topm\n",
    "\n",
    "\n",
    "\n",
    "#plotting the graph\n",
    "\n",
    "sns.barplot(x=res_wide_topm.Average_Money_Spent,y=res_wide_topm.CustomerID, orient='h')\n",
    "\n",
    "#add plot title\n",
    "plt.title('Average Money Spent', fontsize=16)\n",
    "\n",
    "#add axis labels\n",
    "plt.xlabel('Average Spending')\n",
    "plt.ylabel('Customer ID')\n"
   ]
  },
  {
   "attachments": {},
   "cell_type": "markdown",
   "metadata": {},
   "source": [
    "***Then, our top 7 buyers***"
   ]
  },
  {
   "cell_type": "code",
   "execution_count": 26,
   "metadata": {},
   "outputs": [
    {
     "data": {
      "text/html": [
       "<div>\n",
       "<style scoped>\n",
       "    .dataframe tbody tr th:only-of-type {\n",
       "        vertical-align: middle;\n",
       "    }\n",
       "\n",
       "    .dataframe tbody tr th {\n",
       "        vertical-align: top;\n",
       "    }\n",
       "\n",
       "    .dataframe thead tr th {\n",
       "        text-align: left;\n",
       "    }\n",
       "\n",
       "    .dataframe thead tr:last-of-type th {\n",
       "        text-align: right;\n",
       "    }\n",
       "</style>\n",
       "<table border=\"1\" class=\"dataframe\">\n",
       "  <thead>\n",
       "    <tr>\n",
       "      <th></th>\n",
       "      <th colspan=\"3\" halign=\"left\">Quantity</th>\n",
       "    </tr>\n",
       "    <tr>\n",
       "      <th></th>\n",
       "      <th>sum</th>\n",
       "      <th>count</th>\n",
       "      <th>mean</th>\n",
       "    </tr>\n",
       "    <tr>\n",
       "      <th>CustomerID</th>\n",
       "      <th></th>\n",
       "      <th></th>\n",
       "      <th></th>\n",
       "    </tr>\n",
       "  </thead>\n",
       "  <tbody>\n",
       "    <tr>\n",
       "      <th>14646.0</th>\n",
       "      <td>196719</td>\n",
       "      <td>2085</td>\n",
       "      <td>94.349640</td>\n",
       "    </tr>\n",
       "    <tr>\n",
       "      <th>12415.0</th>\n",
       "      <td>77242</td>\n",
       "      <td>778</td>\n",
       "      <td>99.282776</td>\n",
       "    </tr>\n",
       "    <tr>\n",
       "      <th>14911.0</th>\n",
       "      <td>77180</td>\n",
       "      <td>5903</td>\n",
       "      <td>13.074708</td>\n",
       "    </tr>\n",
       "    <tr>\n",
       "      <th>17450.0</th>\n",
       "      <td>69029</td>\n",
       "      <td>351</td>\n",
       "      <td>196.663818</td>\n",
       "    </tr>\n",
       "    <tr>\n",
       "      <th>18102.0</th>\n",
       "      <td>64122</td>\n",
       "      <td>433</td>\n",
       "      <td>148.087760</td>\n",
       "    </tr>\n",
       "    <tr>\n",
       "      <th>17511.0</th>\n",
       "      <td>63012</td>\n",
       "      <td>1076</td>\n",
       "      <td>58.561338</td>\n",
       "    </tr>\n",
       "    <tr>\n",
       "      <th>13694.0</th>\n",
       "      <td>61803</td>\n",
       "      <td>585</td>\n",
       "      <td>105.646154</td>\n",
       "    </tr>\n",
       "  </tbody>\n",
       "</table>\n",
       "</div>"
      ],
      "text/plain": [
       "           Quantity                  \n",
       "                sum count        mean\n",
       "CustomerID                           \n",
       "14646.0      196719  2085   94.349640\n",
       "12415.0       77242   778   99.282776\n",
       "14911.0       77180  5903   13.074708\n",
       "17450.0       69029   351  196.663818\n",
       "18102.0       64122   433  148.087760\n",
       "17511.0       63012  1076   58.561338\n",
       "13694.0       61803   585  105.646154"
      ]
     },
     "execution_count": 26,
     "metadata": {},
     "output_type": "execute_result"
    }
   ],
   "source": [
    "groupagg1=df_group_one.groupby(['CustomerID']).agg({'Quantity': ['sum','count','mean']})\n",
    "top_buyers=groupagg1.sort_values(by=('Quantity','sum'),ascending=False)\n",
    "top_buyers.head(7)"
   ]
  },
  {
   "attachments": {},
   "cell_type": "markdown",
   "metadata": {},
   "source": [
    "***Some graphics...***"
   ]
  },
  {
   "cell_type": "code",
   "execution_count": 27,
   "metadata": {},
   "outputs": [
    {
     "data": {
      "image/png": "[encoded data removed]",
      "text/plain": [
       "<Figure size 432x288 with 1 Axes>"
      ]
     },
     "metadata": {},
     "output_type": "display_data"
    }
   ],
   "source": [
    "groupagg1=df_group_one.groupby(['CustomerID']).agg({'Quantity': ['sum']})\n",
    "top_buyers=groupagg1.sort_values(by=('Quantity','sum'),ascending=False)\n",
    "top_buyers=top_buyers.head(7)\n",
    "#Unpivot the columns\n",
    "res_topb = top_buyers.reset_index()\n",
    "res_wide_topb=res_topb.melt(id_vars='CustomerID')\n",
    "res_wide_topb=res_wide_topb.drop(['variable_0','variable_1'],axis=1)\n",
    "res_wide_topb.rename(columns = {'value':'Quantity_Bought'}, inplace = True)\n",
    "\n",
    "#display dataframe\n",
    "#res_wide_topb\n",
    "#plotting the graph\n",
    "plt.style.use('ggplot')\n",
    "plt.barh(res_wide_topb['CustomerID'], res_wide_topb['Quantity_Bought'])\n",
    "\n",
    "# setting label of y-axis\n",
    "plt.ylabel(\"Customer ID\")\n",
    "\n",
    "# setting label of x-axis\n",
    "plt.xlabel(\"Quantity Purchased\")\n",
    "plt.title(\"Top 7 Customers\")\n",
    "plt.show()\n"
   ]
  },
  {
   "attachments": {},
   "cell_type": "markdown",
   "metadata": {},
   "source": [
    "***or so we thought...***"
   ]
  },
  {
   "cell_type": "code",
   "execution_count": 28,
   "metadata": {},
   "outputs": [
    {
     "data": {
      "text/html": [
       "<div>\n",
       "<style scoped>\n",
       "    .dataframe tbody tr th:only-of-type {\n",
       "        vertical-align: middle;\n",
       "    }\n",
       "\n",
       "    .dataframe tbody tr th {\n",
       "        vertical-align: top;\n",
       "    }\n",
       "\n",
       "    .dataframe thead tr th {\n",
       "        text-align: left;\n",
       "    }\n",
       "\n",
       "    .dataframe thead tr:last-of-type th {\n",
       "        text-align: right;\n",
       "    }\n",
       "</style>\n",
       "<table border=\"1\" class=\"dataframe\">\n",
       "  <thead>\n",
       "    <tr>\n",
       "      <th></th>\n",
       "      <th colspan=\"3\" halign=\"left\">Quantity</th>\n",
       "    </tr>\n",
       "    <tr>\n",
       "      <th></th>\n",
       "      <th>sum</th>\n",
       "      <th>count</th>\n",
       "      <th>mean</th>\n",
       "    </tr>\n",
       "    <tr>\n",
       "      <th>CustomerID</th>\n",
       "      <th></th>\n",
       "      <th></th>\n",
       "      <th></th>\n",
       "    </tr>\n",
       "  </thead>\n",
       "  <tbody>\n",
       "    <tr>\n",
       "      <th>13256.0</th>\n",
       "      <td>12540</td>\n",
       "      <td>1</td>\n",
       "      <td>12540.0</td>\n",
       "    </tr>\n",
       "    <tr>\n",
       "      <th>13135.0</th>\n",
       "      <td>4300</td>\n",
       "      <td>1</td>\n",
       "      <td>4300.0</td>\n",
       "    </tr>\n",
       "    <tr>\n",
       "      <th>16754.0</th>\n",
       "      <td>4280</td>\n",
       "      <td>2</td>\n",
       "      <td>2140.0</td>\n",
       "    </tr>\n",
       "    <tr>\n",
       "      <th>16308.0</th>\n",
       "      <td>8000</td>\n",
       "      <td>4</td>\n",
       "      <td>2000.0</td>\n",
       "    </tr>\n",
       "    <tr>\n",
       "      <th>14609.0</th>\n",
       "      <td>7026</td>\n",
       "      <td>4</td>\n",
       "      <td>1756.5</td>\n",
       "    </tr>\n",
       "    <tr>\n",
       "      <th>15118.0</th>\n",
       "      <td>1440</td>\n",
       "      <td>1</td>\n",
       "      <td>1440.0</td>\n",
       "    </tr>\n",
       "    <tr>\n",
       "      <th>15195.0</th>\n",
       "      <td>1404</td>\n",
       "      <td>1</td>\n",
       "      <td>1404.0</td>\n",
       "    </tr>\n",
       "  </tbody>\n",
       "</table>\n",
       "</div>"
      ],
      "text/plain": [
       "           Quantity               \n",
       "                sum count     mean\n",
       "CustomerID                        \n",
       "13256.0       12540     1  12540.0\n",
       "13135.0        4300     1   4300.0\n",
       "16754.0        4280     2   2140.0\n",
       "16308.0        8000     4   2000.0\n",
       "14609.0        7026     4   1756.5\n",
       "15118.0        1440     1   1440.0\n",
       "15195.0        1404     1   1404.0"
      ]
     },
     "execution_count": 28,
     "metadata": {},
     "output_type": "execute_result"
    }
   ],
   "source": [
    "groupagg1=df_group_one.groupby(['CustomerID']).agg({'Quantity': ['sum','count','mean']})\n",
    "top_buyers=groupagg1.sort_values(by=('Quantity','mean'),ascending=False)\n",
    "top_buyers.head(7)"
   ]
  },
  {
   "cell_type": "code",
   "execution_count": 47,
   "metadata": {},
   "outputs": [
    {
     "data": {
      "text/plain": [
       "Text(0, 0.5, 'Customer ID')"
      ]
     },
     "execution_count": 47,
     "metadata": {},
     "output_type": "execute_result"
    },
    {
     "data": {
      "image/png": "[encoded data removed]",
      "text/plain": [
       "<Figure size 432x288 with 1 Axes>"
      ]
     },
     "metadata": {},
     "output_type": "display_data"
    }
   ],
   "source": [
    "groupagg1=df_group_one.groupby(['CustomerID']).agg({'Quantity': ['mean']})\n",
    "top_buyersm=groupagg1.sort_values(by=('Quantity','mean'),ascending=False)\n",
    "top_buyersm=top_buyersm.head(7)\n",
    "\n",
    "#Unpivotting columns\n",
    "res_topbm = top_buyersm.reset_index()\n",
    "res_wide_topbm=res_topbm.melt(id_vars='CustomerID')\n",
    "res_wide_topbm=res_wide_topbm.drop(['variable_0','variable_1'],axis=1)\n",
    "res_wide_topbm.rename(columns = {'value':'Average_Quantity'}, inplace = True)\n",
    "#res_wide_topbm\n",
    "#plotting the graph\n",
    "\n",
    "sns.barplot(x=res_wide_topbm.Average_Quantity,y=res_wide_topbm.CustomerID, orient='h')\n",
    "\n",
    "#add plot title\n",
    "plt.title('Average Quantity Purchased', fontsize=16)\n",
    "\n",
    "#add axis labels\n",
    "plt.xlabel('Average Quantity')\n",
    "plt.ylabel('Customer ID')\n",
    "\n"
   ]
  },
  {
   "attachments": {},
   "cell_type": "markdown",
   "metadata": {},
   "source": [
    "***By the metrics above, we seek to show total money spent by each customer, and total money spent on average by each customer.*** \n",
    "***Same with the quantity purchased. The question remains; would you a customer that buys frequently, or one who buys more on one visit?***"
   ]
  },
  {
   "attachments": {},
   "cell_type": "markdown",
   "metadata": {},
   "source": []
  },
  {
   "attachments": {},
   "cell_type": "markdown",
   "metadata": {},
   "source": [
    "***We can also pinpoint which countries our top buyers and top spenders are...***\n"
   ]
  },
  {
   "cell_type": "code",
   "execution_count": 37,
   "metadata": {},
   "outputs": [
    {
     "data": {
      "text/plain": [
       "317502    United Kingdom\n",
       "Name: Country, dtype: object"
      ]
     },
     "execution_count": 37,
     "metadata": {},
     "output_type": "execute_result"
    }
   ],
   "source": [
    "#df['Invoice_time']= df['Invoice_time'].astype('datetime64[ns]')\n",
    "\n",
    "df.loc[df['CustomerID'] == '14096.0'].Country.head(1)\n"
   ]
  },
  {
   "attachments": {},
   "cell_type": "markdown",
   "metadata": {},
   "source": [
    "**Now let's do some Country analyses**"
   ]
  },
  {
   "attachments": {},
   "cell_type": "markdown",
   "metadata": {},
   "source": [
    "***Which products were customers from different countries buying?***"
   ]
  },
  {
   "cell_type": "code",
   "execution_count": 29,
   "metadata": {},
   "outputs": [
    {
     "data": {
      "text/plain": [
       "Country    Description                               \n",
       "Australia   DOLLY GIRL BEAKER                  304883    200\n",
       "            I LOVE LONDON MINI BACKPACK        365447      4\n",
       "           10 COLOUR SPACEBOY PEN              228210     48\n",
       "           12 PENCIL SMALL TUBE WOODLAND       90226     384\n",
       "           12 PENCILS TALL TUBE POSY           228198    240\n",
       "                                               132289     12\n",
       "           12 PENCILS TALL TUBE RED RETROSPOT  132290     12\n",
       "           16 PIECE CUTLERY SET PANTRY DESIGN  193909     24\n",
       "           20 DOLLY PEGS RETROSPOT             17067      24\n",
       "           3 HOOK HANGER MAGIC GARDEN          52281      12\n",
       "           3 STRIPEY MICE FELTCRAFT            228200    120\n",
       "                                               304946     80\n",
       "                                               269611      1\n",
       "                                               270094     -1\n",
       "           3 TIER CAKE TIN GREEN AND CREAM     108021     32\n",
       "           3 TIER CAKE TIN RED AND CREAM       198380     28\n",
       "                                               108020     20\n",
       "           36 DOILIES VINTAGE CHRISTMAS        304963    288\n",
       "           36 PENCILS TUBE RED RETROSPOT       228237    128\n",
       "                                               304923    128\n",
       "                                               378403    128\n",
       "                                               269596      1\n",
       "                                               270105     -1\n",
       "           36 PENCILS TUBE SKULLS              378404    128\n",
       "           4 TRADITIONAL SPINNING TOPS         193949    320\n",
       "                                               45539     160\n",
       "                                               108063    160\n",
       "                                               378427     48\n",
       "                                               365437     12\n",
       "           6 GIFT TAGS VINTAGE CHRISTMAS       304884    216\n",
       "           6 RIBBONS RUSTIC CHARM              45514     144\n",
       "           60 CAKE CASES VINTAGE CHRISTMAS     304965    240\n",
       "           70'S ALPHABET WALL ART              378392      6\n",
       "           72 SWEETHEART FAIRY CAKE CASES      468153    120\n",
       "           ABC TREASURE BOOK BOX               193887    288\n",
       "                                               304943     72\n",
       "           ADVENT CALENDAR GINGHAM SACK        497684     12\n",
       "                                               263729      6\n",
       "           ALARM CLOCK BAKELIKE CHOCOLATE      378371     50\n",
       "           ALARM CLOCK BAKELIKE GREEN          378367     50\n",
       "Name: Quantity, dtype: int64"
      ]
     },
     "execution_count": 29,
     "metadata": {},
     "output_type": "execute_result"
    }
   ],
   "source": [
    "df_group2=df[['Country','Quantity','StockCode','Description']]\n",
    "grouped = df_group2.groupby(['Country','Description'])['Quantity'].nlargest()\n",
    "grouped.head(40)"
   ]
  },
  {
   "attachments": {},
   "cell_type": "markdown",
   "metadata": {},
   "source": [
    "***So which country has the most purchases?***"
   ]
  },
  {
   "cell_type": "code",
   "execution_count": 30,
   "metadata": {},
   "outputs": [
    {
     "data": {
      "text/html": [
       "<div>\n",
       "<style scoped>\n",
       "    .dataframe tbody tr th:only-of-type {\n",
       "        vertical-align: middle;\n",
       "    }\n",
       "\n",
       "    .dataframe tbody tr th {\n",
       "        vertical-align: top;\n",
       "    }\n",
       "\n",
       "    .dataframe thead tr th {\n",
       "        text-align: left;\n",
       "    }\n",
       "\n",
       "    .dataframe thead tr:last-of-type th {\n",
       "        text-align: right;\n",
       "    }\n",
       "</style>\n",
       "<table border=\"1\" class=\"dataframe\">\n",
       "  <thead>\n",
       "    <tr>\n",
       "      <th></th>\n",
       "      <th>Quantity</th>\n",
       "    </tr>\n",
       "    <tr>\n",
       "      <th></th>\n",
       "      <th>sum</th>\n",
       "    </tr>\n",
       "    <tr>\n",
       "      <th>Country</th>\n",
       "      <th></th>\n",
       "    </tr>\n",
       "  </thead>\n",
       "  <tbody>\n",
       "    <tr>\n",
       "      <th>United Kingdom</th>\n",
       "      <td>4008533</td>\n",
       "    </tr>\n",
       "    <tr>\n",
       "      <th>Netherlands</th>\n",
       "      <td>200128</td>\n",
       "    </tr>\n",
       "    <tr>\n",
       "      <th>EIRE</th>\n",
       "      <td>136329</td>\n",
       "    </tr>\n",
       "    <tr>\n",
       "      <th>Germany</th>\n",
       "      <td>117448</td>\n",
       "    </tr>\n",
       "    <tr>\n",
       "      <th>France</th>\n",
       "      <td>109848</td>\n",
       "    </tr>\n",
       "    <tr>\n",
       "      <th>Australia</th>\n",
       "      <td>83653</td>\n",
       "    </tr>\n",
       "    <tr>\n",
       "      <th>Sweden</th>\n",
       "      <td>35637</td>\n",
       "    </tr>\n",
       "    <tr>\n",
       "      <th>Switzerland</th>\n",
       "      <td>29778</td>\n",
       "    </tr>\n",
       "  </tbody>\n",
       "</table>\n",
       "</div>"
      ],
      "text/plain": [
       "               Quantity\n",
       "                    sum\n",
       "Country                \n",
       "United Kingdom  4008533\n",
       "Netherlands      200128\n",
       "EIRE             136329\n",
       "Germany          117448\n",
       "France           109848\n",
       "Australia         83653\n",
       "Sweden            35637\n",
       "Switzerland       29778"
      ]
     },
     "execution_count": 30,
     "metadata": {},
     "output_type": "execute_result"
    }
   ],
   "source": [
    "df_group_can=df[['Country','Quantity','InvoiceDate']]\n",
    "groupagg2=df_group_can.groupby(['Country']).agg({'Quantity': ['sum']})\n",
    "sort_quan= groupagg2.sort_values(by=('Quantity','sum'), ascending=False).head(8)\n",
    "sort_quan"
   ]
  },
  {
   "attachments": {},
   "cell_type": "markdown",
   "metadata": {},
   "source": [
    "***Outlier alert!!***\n",
    "---\n",
    "***Looks like customers from the UK far outnumber customers from other regions***"
   ]
  },
  {
   "cell_type": "code",
   "execution_count": 31,
   "metadata": {},
   "outputs": [
    {
     "data": {
      "image/png": "[encoded data removed]",
      "text/plain": [
       "<Figure size 720x576 with 1 Axes>"
      ]
     },
     "metadata": {},
     "output_type": "display_data"
    }
   ],
   "source": [
    "\n",
    "#We unpivot\n",
    "res1 = sort_quan.reset_index()\n",
    "res_wide1=res1.melt(id_vars='Country')\n",
    "res_wide1=res_wide1.drop(['variable_0','variable_1'],axis=1)\n",
    "res_wide1.rename(columns = {'value':'Total_Quantity'}, inplace = True)\n",
    "\n",
    "#We take out the UK\n",
    "res_wideC=res_wide1.drop(res_wide1.index[0])\n",
    "\n",
    "#We display the result\n",
    "#res_wideC\n",
    "\n",
    "#then, we plot the graph\n",
    "\n",
    "plt.figure(figsize=(10,8))\n",
    "sns.barplot(x=\"Country\", y=\"Total_Quantity\",data=res_wideC)\n",
    "plt.show()\n"
   ]
  },
  {
   "attachments": {},
   "cell_type": "markdown",
   "metadata": {},
   "source": [
    "**Then we find our topmost spending nation... drumroll...**"
   ]
  },
  {
   "cell_type": "code",
   "execution_count": 32,
   "metadata": {},
   "outputs": [
    {
     "data": {
      "text/html": [
       "<div>\n",
       "<style scoped>\n",
       "    .dataframe tbody tr th:only-of-type {\n",
       "        vertical-align: middle;\n",
       "    }\n",
       "\n",
       "    .dataframe tbody tr th {\n",
       "        vertical-align: top;\n",
       "    }\n",
       "\n",
       "    .dataframe thead tr th {\n",
       "        text-align: left;\n",
       "    }\n",
       "\n",
       "    .dataframe thead tr:last-of-type th {\n",
       "        text-align: right;\n",
       "    }\n",
       "</style>\n",
       "<table border=\"1\" class=\"dataframe\">\n",
       "  <thead>\n",
       "    <tr>\n",
       "      <th></th>\n",
       "      <th>UnitPrice</th>\n",
       "    </tr>\n",
       "    <tr>\n",
       "      <th></th>\n",
       "      <th>sum</th>\n",
       "    </tr>\n",
       "    <tr>\n",
       "      <th>Country</th>\n",
       "      <th></th>\n",
       "    </tr>\n",
       "  </thead>\n",
       "  <tbody>\n",
       "    <tr>\n",
       "      <th>United Kingdom</th>\n",
       "      <td>1178277.264</td>\n",
       "    </tr>\n",
       "    <tr>\n",
       "      <th>France</th>\n",
       "      <td>42871.240</td>\n",
       "    </tr>\n",
       "    <tr>\n",
       "      <th>EIRE</th>\n",
       "      <td>38253.580</td>\n",
       "    </tr>\n",
       "    <tr>\n",
       "      <th>Germany</th>\n",
       "      <td>37666.000</td>\n",
       "    </tr>\n",
       "    <tr>\n",
       "      <th>Singapore</th>\n",
       "      <td>25108.890</td>\n",
       "    </tr>\n",
       "    <tr>\n",
       "      <th>Portugal</th>\n",
       "      <td>12929.860</td>\n",
       "    </tr>\n",
       "    <tr>\n",
       "      <th>Spain</th>\n",
       "      <td>12633.450</td>\n",
       "    </tr>\n",
       "    <tr>\n",
       "      <th>Belgium</th>\n",
       "      <td>7540.130</td>\n",
       "    </tr>\n",
       "    <tr>\n",
       "      <th>Switzerland</th>\n",
       "      <td>6568.600</td>\n",
       "    </tr>\n",
       "  </tbody>\n",
       "</table>\n",
       "</div>"
      ],
      "text/plain": [
       "                  UnitPrice\n",
       "                        sum\n",
       "Country                    \n",
       "United Kingdom  1178277.264\n",
       "France            42871.240\n",
       "EIRE              38253.580\n",
       "Germany           37666.000\n",
       "Singapore         25108.890\n",
       "Portugal          12929.860\n",
       "Spain             12633.450\n",
       "Belgium            7540.130\n",
       "Switzerland        6568.600"
      ]
     },
     "execution_count": 32,
     "metadata": {},
     "output_type": "execute_result"
    }
   ],
   "source": [
    "df_group_can=df[['Country','Quantity','InvoiceDate','UnitPrice']]\n",
    "groupagg21=df_group_can.groupby(['Country']).agg({'UnitPrice': ['sum']})\n",
    "sort_can=groupagg21.sort_values(by=('UnitPrice','sum'), ascending=False).head(9)\n",
    "sort_can"
   ]
  },
  {
   "attachments": {},
   "cell_type": "markdown",
   "metadata": {},
   "source": [
    "***...add a little colour, and...***"
   ]
  },
  {
   "cell_type": "code",
   "execution_count": 33,
   "metadata": {},
   "outputs": [
    {
     "data": {
      "image/png": "[encoded data removed]",
      "text/plain": [
       "<Figure size 720x576 with 1 Axes>"
      ]
     },
     "metadata": {},
     "output_type": "display_data"
    }
   ],
   "source": [
    "res = sort_can.reset_index()\n",
    "res_wide=res.melt(id_vars='Country')\n",
    "res_wide=res_wide.drop(['variable_0','variable_1'],axis=1)\n",
    "res_wide.rename(columns = {'value':'Total_Amount'}, inplace = True)\n",
    "\n",
    "#take out the outlier\n",
    "\n",
    "res_wideB=res_wide.drop(res_wide1.index[0])\n",
    "#res_wideB\n",
    "\n",
    "#res_wideB\n",
    "\n",
    "#Plotting the graph\n",
    "plt.figure(figsize=(10,8))\n",
    "sns.barplot(x=\"Country\", y=\"Total_Amount\",data=res_wideB)\n",
    "plt.show()\n"
   ]
  },
  {
   "attachments": {},
   "cell_type": "markdown",
   "metadata": {},
   "source": [
    "**Now, we will want to track sales according to the days, months and years, and of course our top-selling products.**\n",
    "---\n",
    "***First, our best-selling product, in terms ofquantity sold.***"
   ]
  },
  {
   "cell_type": "code",
   "execution_count": 34,
   "metadata": {},
   "outputs": [
    {
     "data": {
      "text/html": [
       "<div>\n",
       "<style scoped>\n",
       "    .dataframe tbody tr th:only-of-type {\n",
       "        vertical-align: middle;\n",
       "    }\n",
       "\n",
       "    .dataframe tbody tr th {\n",
       "        vertical-align: top;\n",
       "    }\n",
       "\n",
       "    .dataframe thead th {\n",
       "        text-align: right;\n",
       "    }\n",
       "</style>\n",
       "<table border=\"1\" class=\"dataframe\">\n",
       "  <thead>\n",
       "    <tr style=\"text-align: right;\">\n",
       "      <th></th>\n",
       "      <th>Description</th>\n",
       "      <th>Total_Quantity</th>\n",
       "    </tr>\n",
       "  </thead>\n",
       "  <tbody>\n",
       "    <tr>\n",
       "      <th>0</th>\n",
       "      <td>WORLD WAR 2 GLIDERS ASSTD DESIGNS</td>\n",
       "      <td>53215</td>\n",
       "    </tr>\n",
       "    <tr>\n",
       "      <th>1</th>\n",
       "      <td>JUMBO BAG RED RETROSPOT</td>\n",
       "      <td>45066</td>\n",
       "    </tr>\n",
       "    <tr>\n",
       "      <th>2</th>\n",
       "      <td>ASSORTED COLOUR BIRD ORNAMENT</td>\n",
       "      <td>35314</td>\n",
       "    </tr>\n",
       "    <tr>\n",
       "      <th>3</th>\n",
       "      <td>WHITE HANGING HEART T-LIGHT HOLDER</td>\n",
       "      <td>34147</td>\n",
       "    </tr>\n",
       "    <tr>\n",
       "      <th>4</th>\n",
       "      <td>PACK OF 72 RETROSPOT CAKE CASES</td>\n",
       "      <td>33409</td>\n",
       "    </tr>\n",
       "  </tbody>\n",
       "</table>\n",
       "</div>"
      ],
      "text/plain": [
       "                          Description  Total_Quantity\n",
       "0   WORLD WAR 2 GLIDERS ASSTD DESIGNS           53215\n",
       "1             JUMBO BAG RED RETROSPOT           45066\n",
       "2       ASSORTED COLOUR BIRD ORNAMENT           35314\n",
       "3  WHITE HANGING HEART T-LIGHT HOLDER           34147\n",
       "4     PACK OF 72 RETROSPOT CAKE CASES           33409"
      ]
     },
     "execution_count": 34,
     "metadata": {},
     "output_type": "execute_result"
    }
   ],
   "source": [
    "Salestime=df[['Invoice_date', 'Year','Quantity','Month','Description','UnitPrice']]\n",
    "#Salestime\n",
    "SalestimeStock=Salestime.groupby(['Description']).agg({'Quantity': ['sum']})\n",
    "Stock=SalestimeStock.sort_values(by=('Quantity','sum'), ascending=False)\n",
    "Stockbest=Stock.head(5)\n",
    "\n",
    "#Unpivot\n",
    "res_Stockbest = Stockbest.reset_index()\n",
    "res_Stock_wide=res_Stockbest.melt(id_vars='Description')\n",
    "res_Stock_wide=res_Stock_wide.drop(['variable_0','variable_1'],axis=1)\n",
    "res_Stock_wide.rename(columns = {'value':'Total_Quantity'}, inplace = True)\n",
    "\n",
    "res_Stock_wide\n",
    "\n"
   ]
  },
  {
   "attachments": {},
   "cell_type": "markdown",
   "metadata": {},
   "source": [
    "***Let us get a donut chart to show us***"
   ]
  },
  {
   "cell_type": "code",
   "execution_count": 35,
   "metadata": {},
   "outputs": [
    {
     "data": {
      "image/png": "[encoded data removed]",
      "text/plain": [
       "<Figure size 432x288 with 1 Axes>"
      ]
     },
     "metadata": {},
     "output_type": "display_data"
    }
   ],
   "source": [
    "\n",
    "# Setting size in Chart based on\n",
    "# given values\n",
    "sizes = res_Stock_wide['Total_Quantity']\n",
    "\n",
    "\n",
    "# Setting labels for items in Chart\n",
    "labels = res_Stock_wide['Description']\n",
    "\n",
    "# colors\n",
    "colors = ['green', '#0000FF', '#FFFF00','#FFA500', '#FF0000']\n",
    "\n",
    "# explosion\n",
    "explode = (0.00,0.00,0.00,0.1,0.1)\n",
    "\n",
    "# Pie Chart\n",
    "plt.pie(sizes, colors=colors, labels=labels,\n",
    "\t\tautopct='%1.1f%%', pctdistance=0.85,\n",
    "\t\texplode=explode)\n",
    "\n",
    "# draw circle\n",
    "centre_circle = plt.Circle((0, 0), 0.70, fc='white')\n",
    "fig = plt.gcf()\n",
    "\n",
    "# Adding Circle in Pie chart\n",
    "fig.gca().add_artist(centre_circle)\n",
    "\n",
    "# Adding Title of chart\n",
    "plt.title('Best-selling Products')\n",
    "\n",
    "# Add Legends\n",
    "plt.legend(labels, loc=\"upper right\")\n",
    "\n",
    "# Displaying Chart\n",
    "plt.show()\n"
   ]
  },
  {
   "attachments": {},
   "cell_type": "markdown",
   "metadata": {},
   "source": [
    "***Let's get our busiest year***"
   ]
  },
  {
   "cell_type": "code",
   "execution_count": 36,
   "metadata": {},
   "outputs": [
    {
     "data": {
      "image/png": "[encoded data removed]",
      "text/plain": [
       "<Figure size 432x288 with 1 Axes>"
      ]
     },
     "metadata": {},
     "output_type": "display_data"
    }
   ],
   "source": [
    "get_year=Salestime.groupby(Salestime['Year']).agg({'Quantity': ['sum']})\n",
    "get_years=get_year.sort_values(by=('Quantity','sum'), ascending=False)\n",
    "#get_years\n",
    "res_Year = get_years.reset_index()\n",
    "res_Year_wide=res_Year.melt(id_vars='Year')\n",
    "res_Year_wide=res_Year_wide.drop(['variable_0','variable_1'],axis=1)\n",
    "res_Year_wide.rename(columns = {'value':'Total_Quantity'}, inplace = True)\n",
    "#res_Year_wide\n",
    "\n",
    "#plotting\n",
    "sns.countplot(x ='Year', data = Salestime)\n",
    "# Show the plot\n",
    "plt.show()\n"
   ]
  },
  {
   "attachments": {},
   "cell_type": "markdown",
   "metadata": {},
   "source": [
    "***Also, let's get our busiest months***"
   ]
  },
  {
   "cell_type": "code",
   "execution_count": 69,
   "metadata": {},
   "outputs": [
    {
     "data": {
      "image/png": "[encoded data removed]",
      "text/plain": [
       "<Figure size 432x288 with 1 Axes>"
      ]
     },
     "metadata": {},
     "output_type": "display_data"
    }
   ],
   "source": [
    "\n",
    "get_month=Salestime.groupby(Salestime['Month']).agg({'Quantity': ['sum']})\n",
    "get_months=get_month.sort_values(by=('Quantity','sum'), ascending=False)\n",
    "#get_months\n",
    "\n",
    "res_month = get_months.reset_index()\n",
    "res_month_wide=res_month.melt(id_vars='Month')\n",
    "res_month_wide=res_month_wide.drop(['variable_0','variable_1'],axis=1)\n",
    "res_month_wide.rename(columns = {'value':'Total_Quantity'}, inplace = True)\n",
    "\n",
    "#res_month_wide\n",
    "\n",
    "#plot the graph\n",
    "sns.barplot(x = 'Month', y = 'Total_Quantity', data = res_month_wide)\n",
    "# Show the plot\n",
    "plt.show()\n",
    "\n",
    "\n",
    "\n"
   ]
  },
  {
   "attachments": {},
   "cell_type": "markdown",
   "metadata": {},
   "source": [
    "***And finally, our busiest days***"
   ]
  },
  {
   "cell_type": "code",
   "execution_count": 38,
   "metadata": {},
   "outputs": [
    {
     "data": {
      "image/png": "[encoded data removed]",
      "text/plain": [
       "<Figure size 432x288 with 1 Axes>"
      ]
     },
     "metadata": {},
     "output_type": "display_data"
    }
   ],
   "source": [
    "#plotting\n",
    "sns.countplot(x ='Weekday', data = df, order=df['Weekday'].value_counts(ascending=False).index)\n",
    "# Show the plot\n",
    "plt.show()\n"
   ]
  },
  {
   "attachments": {},
   "cell_type": "markdown",
   "metadata": {},
   "source": [
    "**Can we therefore conclude that the level of products sold match the amount of monies received?**"
   ]
  },
  {
   "cell_type": "code",
   "execution_count": 42,
   "metadata": {},
   "outputs": [
    {
     "data": {
      "image/png": "[encoded data removed]",
      "text/plain": [
       "<Figure size 360x360 with 1 Axes>"
      ]
     },
     "metadata": {},
     "output_type": "display_data"
    }
   ],
   "source": [
    "#Let's get our total amounts received\n",
    "\n",
    "Salestimegroup=Salestime.groupby(['Invoice_date']).agg({'UnitPrice': ['sum']})\n",
    "res_sales = Salestimegroup.reset_index()\n",
    "res_sales_wide=res_sales.melt(id_vars='Invoice_date')\n",
    "res_sales_wide=res_sales_wide.drop(['variable_0','variable_1'],axis=1)\n",
    "res_sales_wide.rename(columns = {'value':'Total_Price'}, inplace = True)\n",
    "\n",
    "#res_sales_wide\n",
    "\n",
    "#And number of products sold\n",
    "Salestimegroup1=Salestime.groupby(['Invoice_date']).agg({'Quantity':['sum']})\n",
    "res_sales1 = Salestimegroup1.reset_index()\n",
    "res_sales1_wide=res_sales1.melt(id_vars='Invoice_date')\n",
    "res_sales1_wide=res_sales1_wide.drop(['variable_0','variable_1'],axis=1)\n",
    "res_sales1_wide.rename(columns = {'value':'Total_Quantity'}, inplace = True)\n",
    "\n",
    "#res_sales1_wide\n",
    "\n",
    "#Let us put these together in a one dataframe\n",
    "\n",
    "Sales=pd.merge(res_sales_wide,res_sales1_wide,on=['Invoice_date'])\n",
    "#Sales\n",
    "\n",
    "#And get our correlation plot\n",
    "sns.lmplot(x =\"Total_Quantity\", y =\"Total_Price\",data = Sales);\n"
   ]
  },
  {
   "attachments": {},
   "cell_type": "markdown",
   "metadata": {},
   "source": [
    "**OBSERVATIONS FROM THE ANALYSES**\n",
    "1. ***There are customers that purchase products more frequently than other customers, and there are ones who purchase in bulk but do not do so frequently.***\n",
    "2. ***Both types are loyal customers and therefore should be encouraged with promos and/ or discounts.***\n",
    "3. ***As with quantity, there are customers who spend more on the average than other customers. However, these are mostly linked to the type of products they need.***\n",
    "4. ***The top-selling products should be available during peak months, like November and October, as well as peak days like Thursdays, Wednesdays, and Tuesdays.***\n",
    "5. ***Apart from the UK, countries that record high sales should be encouraged to do so, while adopting measures to improve sales in countries like Belgium and Switzerland.***\n",
    "6. ***Customers from different regions have products peculiar to them; for example customers from Australia were keen on purchasing products like the 12 PENCIL SMALL TUBE WOODLAND and the 12 PENCILS TALL TUBE POSY.***\n",
    "7. ***The data shows that more products sold equals more income generated.*** "
   ]
  },
  {
   "attachments": {},
   "cell_type": "markdown",
   "metadata": {},
   "source": []
  }
 ],
 "metadata": {
  "kernelspec": {
   "display_name": "Python 3",
   "language": "python",
   "name": "python3"
  },
  "language_info": {
   "codemirror_mode": {
    "name": "ipython",
    "version": 3
   },
   "file_extension": ".py",
   "mimetype": "text/x-python",
   "name": "python",
   "nbconvert_exporter": "python",
   "pygments_lexer": "ipython3",
   "version": "3.9.4"
  }
 },
 "nbformat": 4,
 "nbformat_minor": 4
}
